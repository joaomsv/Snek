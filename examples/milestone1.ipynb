{
 "cells": [
  {
   "cell_type": "code",
   "execution_count": null,
   "metadata": {},
   "outputs": [],
   "source": [
    "from IPython.display import clear_output"
   ]
  },
  {
   "cell_type": "code",
   "execution_count": null,
   "metadata": {},
   "outputs": [],
   "source": [
    "def display_board(board):\n",
    "    clear_output()\n",
    "    gameBoard =f\"\"\"\n",
    "    \\t |\\t |\\t\n",
    "      {board[0][0]}  |   {board[0][1]}   |  {board[0][2]}\n",
    "    \\t |\\t |\\t\n",
    "    --------------------\n",
    "    \\t |\\t |\\t\n",
    "      {board[1][0]}  |   {board[1][1]}   |  {board[1][2]}\n",
    "    \\t |\\t |\\t\n",
    "    --------------------\n",
    "    \\t |\\t |\\t\n",
    "      {board[2][0]}  |   {board[2][1]}   |  {board[2][2]}\n",
    "    \\t |\\t |\\t\n",
    "    \"\"\"\n",
    "    print(gameBoard)"
   ]
  },
  {
   "cell_type": "code",
   "execution_count": null,
   "metadata": {},
   "outputs": [],
   "source": [
    "def initial_turn():\n",
    "    player1 = ''\n",
    "\n",
    "    print('Let the game BEGIN!!!')\n",
    "    while player1 not in ['X', 'O']:\n",
    "        player1 = input('Player 1 please choose X or O: ').upper()\n",
    "\n",
    "        if player1 not in ['X', 'O']:\n",
    "            print('Please choose either X or O!!!')\n",
    "\n",
    "    if player1 == 'X':\n",
    "        print('Player 1 goes first!')\n",
    "        return 'Player 1'\n",
    "    else:\n",
    "        print('Player 2 goes first!')\n",
    "        return 'Player 2'"
   ]
  },
  {
   "cell_type": "code",
   "execution_count": null,
   "metadata": {},
   "outputs": [],
   "source": [
    "def check_board(board, position):\n",
    "    for rowIndex, row in enumerate(board):\n",
    "        for colIndex, col in enumerate(row):\n",
    "            if rowIndex * 3 + colIndex + 1 == position:\n",
    "                if col in ['X', 'O']:\n",
    "                    return True\n",
    "                else:\n",
    "                    return False"
   ]
  },
  {
   "cell_type": "code",
   "execution_count": null,
   "metadata": {},
   "outputs": [],
   "source": [
    "def player_input(board, player):\n",
    "    boardPos = range(1, 10)\n",
    "    playerChoice = 0\n",
    "\n",
    "    while int(playerChoice) not in boardPos:\n",
    "        print(f\"{player}'s turn\")\n",
    "        playerChoice = input(f'{player} please select a position on the board: ')\n",
    "\n",
    "        if not playerChoice.isdigit():\n",
    "            print('Please use numbers to select position!!!')\n",
    "            playerChoice = 0\n",
    "        elif int(playerChoice) not in boardPos:\n",
    "            print('Please select a valid position!!!')\n",
    "        elif check_board(board, int(playerChoice)):\n",
    "            print(f'Postion {playerChoice} taken!!!')\n",
    "            playerChoice = 0\n",
    "\n",
    "    return int(playerChoice)"
   ]
  },
  {
   "cell_type": "code",
   "execution_count": null,
   "metadata": {},
   "outputs": [],
   "source": [
    "def place_on_board(board, position, piece):\n",
    "    for rowIndex, row in enumerate(board):\n",
    "        for colIndex, col in enumerate(row):\n",
    "            if rowIndex * 3 + colIndex + 1 == position:\n",
    "                board[rowIndex][colIndex] = piece"
   ]
  },
  {
   "cell_type": "code",
   "execution_count": null,
   "metadata": {},
   "outputs": [],
   "source": [
    "def player_turn(board, player, turn):\n",
    "    pieces = ['X', 'O']\n",
    "\n",
    "    position = player_input(board, player)\n",
    "    if turn % 2:\n",
    "        place_on_board(board, position, pieces[0])\n",
    "    else:\n",
    "        place_on_board(board, position, pieces[1])\n",
    "\n",
    "    return board"
   ]
  },
  {
   "cell_type": "code",
   "execution_count": null,
   "metadata": {},
   "outputs": [],
   "source": [
    "def is_winner(board):\n",
    "    if board[0][0] == board[0][1] == board[0][2]:\n",
    "        return True\n",
    "    elif board[1][0] == board[1][1] == board[1][2]:\n",
    "        return True\n",
    "    elif board[2][0] == board[2][1] == board[2][2]:\n",
    "        return True\n",
    "    elif board[0][0] == board[1][0] == board[2][0]:\n",
    "        return True\n",
    "    elif board[0][1] == board[1][1] == board[2][1]:\n",
    "        return True\n",
    "    elif board[0][2] == board[1][2] == board[2][2]:\n",
    "        return True\n",
    "    elif board[0][0] == board[1][1] == board[2][2]:\n",
    "        return True\n",
    "    elif board[0][2] == board[1][1] == board[2][0]:\n",
    "        return True\n",
    "    else:\n",
    "        return False"
   ]
  },
  {
   "cell_type": "code",
   "execution_count": null,
   "metadata": {},
   "outputs": [],
   "source": [
    "def current_player(firstPlayer, turn):\n",
    "    if firstPlayer == 'Player 1' and turn % 2:\n",
    "        return 'Player 1'\n",
    "    elif firstPlayer == 'Player 1' and not turn % 2:\n",
    "        return 'Player 2'\n",
    "    elif firstPlayer == 'Player 2' and turn % 2:\n",
    "        return 'Player 2'\n",
    "    elif firstPlayer == 'Player 2' and not turn % 2:\n",
    "        return 'Player 1'"
   ]
  },
  {
   "cell_type": "code",
   "execution_count": null,
   "metadata": {},
   "outputs": [],
   "source": [
    "def replay():\n",
    "    play = ''\n",
    "\n",
    "    while play not in ['Y', 'N']:\n",
    "        play = input('Want to play again? (y or n): ').upper()\n",
    "\n",
    "        if play not in ['Y', 'N']:\n",
    "            print('Please choose a valid answer!!!')\n",
    "        elif play == 'Y':\n",
    "            return True\n",
    "        else:\n",
    "            return False"
   ]
  },
  {
   "cell_type": "code",
   "execution_count": null,
   "metadata": {},
   "outputs": [],
   "source": [
    "play = True\n",
    "while play:\n",
    "    board = [[1, 2, 3], [4, 5, 6], [7, 8, 9]]\n",
    "    turn = 1\n",
    "    display_board(board)\n",
    "    firstPlayer = initial_turn()\n",
    "    while turn <= 9 and not is_winner(board):\n",
    "        board = player_turn(board, current_player(firstPlayer, turn), turn)\n",
    "        display_board(board)\n",
    "        turn += 1\n",
    "\n",
    "    if is_winner(board):\n",
    "        print(f'{current_player(firstPlayer, turn - 1)} is the winner!!!')\n",
    "    else:\n",
    "        print('The game is tied!!!')\n",
    "\n",
    "    play = replay()\n"
   ]
  }
 ],
 "metadata": {
  "kernelspec": {
   "display_name": "Python 3",
   "language": "python",
   "name": "python3"
  },
  "language_info": {
   "codemirror_mode": {
    "name": "ipython",
    "version": 3
   },
   "file_extension": ".py",
   "mimetype": "text/x-python",
   "name": "python",
   "nbconvert_exporter": "python",
   "pygments_lexer": "ipython3",
   "version": "3.8.6"
  },
  "orig_nbformat": 4
 },
 "nbformat": 4,
 "nbformat_minor": 2
}
